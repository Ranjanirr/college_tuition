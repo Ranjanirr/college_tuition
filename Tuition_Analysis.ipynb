{
 "cells": [
  {
   "cell_type": "code",
   "execution_count": 39,
   "id": "54550730",
   "metadata": {
    "scrolled": true
   },
   "outputs": [],
   "source": [
    "# sets up matplotlib with interactive features\n",
    "import pandas as pd\n",
    "import seaborn as sns\n",
    "import matplotlib.pyplot as plt\n",
    "import numpy as np\n",
    "\n"
   ]
  },
  {
   "cell_type": "markdown",
   "id": "81fc91e7",
   "metadata": {},
   "source": [
    "Main goals of analysis: \n",
    "Overall main goal: See which states are most expensive and cheap for individual groups, and if expensive or cheap cost\n",
    "colleges are changing price more rapidly than total average price\n",
    "\n",
    "STEPS TO ACCOMPLISH:\n",
    "* Average fee per group\n",
    "* Ranking states by cheapest to most expensive tuition (per group)\n",
    "* Neighboring bar chart for top 5 and bottom 5 total tuition (for state school 4 year)\n",
    "* Time series for all 5 groups\n",
    "* Time series for all 5 groups, with additional lines of cheap and expensive\n",
    "\n",
    "GROUPS\n",
    "* 2 year instate tuition\n",
    "* 2 year out of state tuition\n",
    "* 4 year in state tuition\n",
    "* 4 year out of state tuition\n",
    "* private\n"
   ]
  },
  {
   "cell_type": "code",
   "execution_count": 40,
   "id": "eeddc439",
   "metadata": {},
   "outputs": [],
   "source": [
    "tuition_data = pd.read_csv(\"tuition_data.csv\")\n",
    "fees_tuition = tuition_data[tuition_data[\"Expense\"] == \"Fees/Tuition\"]\n",
    "instate_2y = fees_tuition[(fees_tuition[\"Type\"] == \"Public In-State\") & (fees_tuition[\"Length\"] == \"2-year\")]\n",
    "outstate_2y = fees_tuition[(fees_tuition[\"Type\"] == \"Public Out-of-State\") & (fees_tuition[\"Length\"] == \"2-year\")]\n",
    "instate_4y = fees_tuition[(fees_tuition[\"Type\"] == \"Public In-State\") & (fees_tuition[\"Length\"] == \"4-year\")]\n",
    "outstate_4y = fees_tuition[(fees_tuition[\"Type\"] == \"Public Out-of-State\") & (fees_tuition[\"Length\"] == \"4-year\")]\n",
    "private = fees_tuition[(fees_tuition[\"Type\"] == \"Private\")]\n",
    "\n"
   ]
  },
  {
   "cell_type": "code",
   "execution_count": 41,
   "id": "d0d1e26d",
   "metadata": {},
   "outputs": [
    {
     "name": "stdout",
     "output_type": "stream",
     "text": [
      "2 year instate standard deviation\n",
      "1160.753920873162\n"
     ]
    },
    {
     "name": "stderr",
     "output_type": "stream",
     "text": [
      "/Users/ranjaniramanathan/opt/anaconda3/lib/python3.9/site-packages/seaborn/_decorators.py:36: FutureWarning: Pass the following variable as a keyword arg: x. From version 0.12, the only valid positional argument will be `data`, and passing other arguments without an explicit keyword will result in an error or misinterpretation.\n",
      "  warnings.warn(\n"
     ]
    },
    {
     "data": {
      "image/png": "[encoded data removed]",
      "text/plain": [
       "<Figure size 432x288 with 1 Axes>"
      ]
     },
     "metadata": {
      "needs_background": "light"
     },
     "output_type": "display_data"
    },
    {
     "name": "stdout",
     "output_type": "stream",
     "text": [
      "2 year out state standard deviation\n",
      "2755.77212008688\n"
     ]
    },
    {
     "name": "stderr",
     "output_type": "stream",
     "text": [
      "/Users/ranjaniramanathan/opt/anaconda3/lib/python3.9/site-packages/seaborn/_decorators.py:36: FutureWarning: Pass the following variable as a keyword arg: x. From version 0.12, the only valid positional argument will be `data`, and passing other arguments without an explicit keyword will result in an error or misinterpretation.\n",
      "  warnings.warn(\n"
     ]
    },
    {
     "data": {
      "text/plain": [
       "<Figure size 432x288 with 0 Axes>"
      ]
     },
     "metadata": {},
     "output_type": "display_data"
    },
    {
     "data": {
      "image/png": "[encoded data removed]",
      "text/plain": [
       "<Figure size 432x288 with 1 Axes>"
      ]
     },
     "metadata": {
      "needs_background": "light"
     },
     "output_type": "display_data"
    },
    {
     "name": "stdout",
     "output_type": "stream",
     "text": [
      "4 year instate standard deviation\n",
      "2627.517475234919\n"
     ]
    },
    {
     "name": "stderr",
     "output_type": "stream",
     "text": [
      "/Users/ranjaniramanathan/opt/anaconda3/lib/python3.9/site-packages/seaborn/_decorators.py:36: FutureWarning: Pass the following variable as a keyword arg: x. From version 0.12, the only valid positional argument will be `data`, and passing other arguments without an explicit keyword will result in an error or misinterpretation.\n",
      "  warnings.warn(\n"
     ]
    },
    {
     "data": {
      "text/plain": [
       "<Figure size 432x288 with 0 Axes>"
      ]
     },
     "metadata": {},
     "output_type": "display_data"
    },
    {
     "data": {
      "image/png": "[encoded data removed]",
      "text/plain": [
       "<Figure size 432x288 with 1 Axes>"
      ]
     },
     "metadata": {
      "needs_background": "light"
     },
     "output_type": "display_data"
    },
    {
     "name": "stdout",
     "output_type": "stream",
     "text": [
      "4 year outstate standard deviation\n",
      "5868.710396745311\n"
     ]
    },
    {
     "name": "stderr",
     "output_type": "stream",
     "text": [
      "/Users/ranjaniramanathan/opt/anaconda3/lib/python3.9/site-packages/seaborn/_decorators.py:36: FutureWarning: Pass the following variable as a keyword arg: x. From version 0.12, the only valid positional argument will be `data`, and passing other arguments without an explicit keyword will result in an error or misinterpretation.\n",
      "  warnings.warn(\n"
     ]
    },
    {
     "data": {
      "text/plain": [
       "<Figure size 432x288 with 0 Axes>"
      ]
     },
     "metadata": {},
     "output_type": "display_data"
    },
    {
     "data": {
      "image/png": "[encoded data removed]",
      "text/plain": [
       "<Figure size 432x288 with 1 Axes>"
      ]
     },
     "metadata": {
      "needs_background": "light"
     },
     "output_type": "display_data"
    },
    {
     "name": "stdout",
     "output_type": "stream",
     "text": [
      "private standard deviation\n",
      "9590.85848401214\n"
     ]
    },
    {
     "name": "stderr",
     "output_type": "stream",
     "text": [
      "/Users/ranjaniramanathan/opt/anaconda3/lib/python3.9/site-packages/seaborn/_decorators.py:36: FutureWarning: Pass the following variable as a keyword arg: x. From version 0.12, the only valid positional argument will be `data`, and passing other arguments without an explicit keyword will result in an error or misinterpretation.\n",
      "  warnings.warn(\n"
     ]
    },
    {
     "data": {
      "text/plain": [
       "<Figure size 432x288 with 0 Axes>"
      ]
     },
     "metadata": {},
     "output_type": "display_data"
    },
    {
     "data": {
      "image/png": "[encoded data removed]",
      "text/plain": [
       "<Figure size 432x288 with 1 Axes>"
      ]
     },
     "metadata": {
      "needs_background": "light"
     },
     "output_type": "display_data"
    },
    {
     "data": {
      "text/plain": [
       "<Figure size 432x288 with 0 Axes>"
      ]
     },
     "metadata": {},
     "output_type": "display_data"
    }
   ],
   "source": [
    "#Check for outliers in tuition data \n",
    "print(\"2 year instate standard deviation\")\n",
    "print(instate_2y[\"Value\"].std()) # Standard deviation of column\n",
    "\n",
    "plt.figure()\n",
    "sns.boxplot(instate_2y[\"Value\"])\n",
    "plt.show()\n",
    "plt.clf()\n",
    "\n",
    "\n",
    "print(\"2 year out state standard deviation\")\n",
    "print(outstate_2y[\"Value\"].std()) # Standard deviation of column\n",
    "\n",
    "plt.figure()\n",
    "sns.boxplot(outstate_2y[\"Value\"])\n",
    "plt.show()\n",
    "plt.clf()\n",
    "\n",
    "\n",
    "print(\"4 year instate standard deviation\")\n",
    "print(instate_4y[\"Value\"].std()) # Standard deviation of column\n",
    "\n",
    "plt.figure()\n",
    "sns.boxplot(instate_4y[\"Value\"])\n",
    "plt.show()\n",
    "plt.clf()\n",
    "\n",
    "print(\"4 year outstate standard deviation\")\n",
    "print(outstate_4y[\"Value\"].std()) # Standard deviation of column\n",
    "\n",
    "plt.figure()\n",
    "sns.boxplot(outstate_4y[\"Value\"])\n",
    "plt.show()\n",
    "plt.clf()\n",
    "\n",
    "print(\"private standard deviation\")\n",
    "print(private[\"Value\"].std()) # Standard deviation of column\n",
    "\n",
    "plt.figure()\n",
    "sns.boxplot(private[\"Value\"])\n",
    "plt.show()\n",
    "plt.clf()\n"
   ]
  },
  {
   "cell_type": "markdown",
   "id": "2d0b3044",
   "metadata": {},
   "source": [
    "* The 2 year instate has the smallest standard deviation\n",
    "* 2 year out of state and 4 year instate also have small standard deviations, in the 2000s range\n",
    "* 4 year out state and private have high standard deviations\n",
    "* Private college has a similar cost to 4 year outstate but a larger standard deviation\n",
    "\n",
    "Recommendation: If a prospective student wants the college cost to be an expected cost, they should mainly apply to\n",
    "2 year colleges and 4 year instate colleges"
   ]
  },
  {
   "cell_type": "code",
   "execution_count": 42,
   "id": "2e1dc197",
   "metadata": {
    "scrolled": true
   },
   "outputs": [
    {
     "data": {
      "image/png": "[encoded data removed]",
      "text/plain": [
       "<Figure size 432x288 with 1 Axes>"
      ]
     },
     "metadata": {
      "needs_background": "light"
     },
     "output_type": "display_data"
    },
    {
     "data": {
      "text/plain": [
       "<Figure size 432x288 with 0 Axes>"
      ]
     },
     "metadata": {},
     "output_type": "display_data"
    }
   ],
   "source": [
    "\n",
    "instate_2y_avg = instate_2y[\"Value\"].mean()\n",
    "outstate_2y_avg =outstate_2y[\"Value\"].mean()\n",
    "instate_4y_avg = instate_4y[\"Value\"].mean()\n",
    "outstate_4y_avg =outstate_4y[\"Value\"].mean()\n",
    "private_avg = private[\"Value\"].mean()\n",
    "averages = [instate_2y_avg, outstate_2y_avg, instate_4y_avg, outstate_4y_avg, private_avg]\n",
    "plt.bar(range(5),averages)\n",
    "\n",
    "#create your ax object here\n",
    "ax = plt.subplot()\n",
    "ax.set_xticks(range(5))\n",
    "ax.set_xticklabels([\"2 Year Instate\", \"2 Year Outstate\", \"4 Year Instate\", \"4 Year Outstate\", \"Private\"], rotation = 45)\n",
    "plt.title(\"Average College Cost By Type\")\n",
    "plt.show()\n",
    "plt.clf()"
   ]
  },
  {
   "cell_type": "markdown",
   "id": "84bc56e5",
   "metadata": {},
   "source": [
    "The bar graph shows that an out of state cost is 2 or more times higher than its respective in state for the same amount of years. Out of state 4 year is surprisingly close to private college cost\n",
    "\n",
    "Recommendation: A student might benefit from applying to in state state schools rather than out of state, it would be twice the tuition for most likely the same quality of education. (Exception being that there is an exceptionally good school out of state outranking any college in the home state). "
   ]
  },
  {
   "cell_type": "code",
   "execution_count": 43,
   "id": "138ff888",
   "metadata": {},
   "outputs": [
    {
     "name": "stdout",
     "output_type": "stream",
     "text": [
      "Least expensive instate 2 year colleges\n",
      "             State        Value\n",
      "4       California  1256.000000\n",
      "30      New Mexico  1591.222222\n",
      "2          Arizona  2070.000000\n",
      "42           Texas  2161.444444\n",
      "32  North Carolina  2411.444444\n",
      "Most expensive instate 2 year colleges\n",
      "            State        Value\n",
      "28  New Hampshire  7179.666667\n",
      "44        Vermont  6265.555556\n",
      "40   South Dakota  5788.111111\n",
      "22      Minnesota  5399.888889\n",
      "31       New York  5032.000000\n",
      "\n",
      "\n",
      "Least expensive outstate 2 year colleges\n",
      "          State        Value\n",
      "1        Alaska  3843.800000\n",
      "26     Nebraska  3848.000000\n",
      "15       Kansas  4433.777778\n",
      "3      Arkansas  4722.666667\n",
      "23  Mississippi  5155.888889\n",
      "Most expensive outstate 2 year colleges\n",
      "            State         Value\n",
      "41      Tennessee  15576.777778\n",
      "28  New Hampshire  15554.444444\n",
      "16       Kentucky  13391.333333\n",
      "37   Pennsylvania  12541.888889\n",
      "44        Vermont  12413.333333\n",
      "\n",
      "\n",
      "Least expensive instate 4 year colleges\n",
      "                   State     Value\n",
      "50               Wyoming  4205.125\n",
      "9                Florida  4436.250\n",
      "28                Nevada  5450.500\n",
      "8   District of Columbia  6034.625\n",
      "44                  Utah  6179.375\n",
      "Most expensive instate 4 year colleges\n",
      "            State      Value\n",
      "29  New Hampshire  15359.500\n",
      "45        Vermont  15295.000\n",
      "38   Pennsylvania  13807.125\n",
      "13       Illinois  13399.250\n",
      "30     New Jersey  13129.500\n",
      "\n",
      "\n",
      "Least expensive outstate 4 year colleges\n",
      "                   State         Value\n",
      "41          South Dakota  11614.444444\n",
      "8   District of Columbia  12612.555556\n",
      "50               Wyoming  13129.666667\n",
      "34          North Dakota  16475.222222\n",
      "31            New Mexico  17120.222222\n",
      "Most expensive outstate 4 year colleges\n",
      "          State         Value\n",
      "45      Vermont  37554.666667\n",
      "22     Michigan  35337.222222\n",
      "6   Connecticut  32362.555556\n",
      "46     Virginia  32247.111111\n",
      "4    California  30950.333333\n",
      "\n",
      "\n",
      "Least expensive private colleges\n",
      "            State         Value\n",
      "12          Idaho   6303.111111\n",
      "44           Utah   7671.000000\n",
      "48  West Virginia  11854.777778\n",
      "2         Arizona  12591.222222\n",
      "7        Delaware  14211.444444\n",
      "Most expensive private colleges\n",
      "                   State         Value\n",
      "21         Massachusetts  42783.333333\n",
      "45               Vermont  41222.333333\n",
      "8   District of Columbia  40384.333333\n",
      "20              Maryland  39473.666667\n",
      "39          Rhode Island  39306.333333\n"
     ]
    }
   ],
   "source": [
    "#States ranked by tuition price\n",
    "instate_2y_state = instate_2y.groupby(\"State\").Value.mean().reset_index()\n",
    "outstate_2y_state = outstate_2y.groupby(\"State\").Value.mean().reset_index()\n",
    "instate_4y_state = instate_4y.groupby(\"State\").Value.mean().reset_index()\n",
    "outstate_4y_state = outstate_4y.groupby(\"State\").Value.mean().reset_index()\n",
    "private_state = private.groupby(\"State\").Value.mean().reset_index()\n",
    "\n",
    "print(\"Least expensive instate 2 year colleges\")\n",
    "instate_2y_state = instate_2y_state.sort_values(by=['Value'])\n",
    "print(instate_2y_state.head())\n",
    "\n",
    "print(\"Most expensive instate 2 year colleges\")\n",
    "instate_2y_state = instate_2y_state.sort_values(by=['Value'], ascending=False)\n",
    "print(instate_2y_state.head())\n",
    "print(\"\\n\")\n",
    "\n",
    "print(\"Least expensive outstate 2 year colleges\")\n",
    "outstate_2y_state = outstate_2y_state.sort_values(by=['Value'])\n",
    "print(outstate_2y_state.head())\n",
    "\n",
    "print(\"Most expensive outstate 2 year colleges\")\n",
    "outstate_2y_state = outstate_2y_state.sort_values(by=['Value'], ascending=False)\n",
    "print(outstate_2y_state.head())\n",
    "print(\"\\n\")\n",
    "\n",
    "\n",
    "print(\"Least expensive instate 4 year colleges\")\n",
    "instate_4y_state = instate_4y_state.sort_values(by=['Value'])\n",
    "print(instate_4y_state.head())\n",
    "\n",
    "print(\"Most expensive instate 4 year colleges\")\n",
    "instate_4y_state = instate_4y_state.sort_values(by=['Value'], ascending=False)\n",
    "print(instate_4y_state.head())\n",
    "print(\"\\n\")\n",
    "\n",
    "\n",
    "print(\"Least expensive outstate 4 year colleges\")\n",
    "outstate_4y_state = outstate_4y_state.sort_values(by=['Value'])\n",
    "print(outstate_4y_state.head())\n",
    "\n",
    "print(\"Most expensive outstate 4 year colleges\")\n",
    "outstate_4y_state = outstate_4y_state.sort_values(by=['Value'], ascending=False)\n",
    "print(outstate_4y_state.head())\n",
    "print(\"\\n\")\n",
    "\n",
    "\n",
    "print(\"Least expensive private colleges\")\n",
    "private_state = private_state.sort_values(by=['Value'])\n",
    "print(private_state.head())\n",
    "\n",
    "print(\"Most expensive private colleges\")\n",
    "private_state = private_state.sort_values(by=['Value'], ascending=False)\n",
    "print(private_state.head())"
   ]
  },
  {
   "cell_type": "markdown",
   "id": "4974c8da",
   "metadata": {},
   "source": [
    "This is for informational purposes, states for different types of colleges vary. Northwest region seems inexpensive for 4 year colleges, North and Central East coast states have more expensive 4 year colleges. "
   ]
  },
  {
   "cell_type": "code",
   "execution_count": 44,
   "id": "1c82bfdd",
   "metadata": {},
   "outputs": [
    {
     "data": {
      "image/png": "[encoded data removed]",
      "text/plain": [
       "<Figure size 432x288 with 1 Axes>"
      ]
     },
     "metadata": {
      "needs_background": "light"
     },
     "output_type": "display_data"
    },
    {
     "data": {
      "image/png": "[encoded data removed]",
      "text/plain": [
       "<Figure size 432x288 with 1 Axes>"
      ]
     },
     "metadata": {
      "needs_background": "light"
     },
     "output_type": "display_data"
    },
    {
     "data": {
      "text/plain": [
       "<Figure size 432x288 with 0 Axes>"
      ]
     },
     "metadata": {},
     "output_type": "display_data"
    }
   ],
   "source": [
    "#Line graphs of college type average tuition change by year\n",
    "\n",
    "x = [2013, 2014, 2015, 2016, 2017, 2018, 2019, 2020, 2021]\n",
    "x2 = [2013, 2014, 2015, 2016, 2017, 2018, 2019, 2020] #4 year instate misses values for 2021 in the csv\n",
    "\n",
    "instate_2y_year = instate_2y.groupby(\"Year\").Value.mean().reset_index()\n",
    "outstate_2y_year = outstate_2y.groupby(\"Year\").Value.mean().reset_index()\n",
    "instate_4y_year = instate_4y.groupby(\"Year\").Value.mean().reset_index()\n",
    "outstate_4y_year = outstate_4y.groupby(\"Year\").Value.mean().reset_index()\n",
    "private_year = private.groupby(\"Year\").Value.mean().reset_index()\n",
    "fees_tuition_yearly = fees_tuition.groupby(\"Year\").Value.mean().reset_index() #Total average cost of colleges by year\n",
    "\n",
    "y1 = list(instate_2y_year[\"Value\"])\n",
    "y2 = list(outstate_2y_year[\"Value\"])\n",
    "y3 = list(instate_4y_year[\"Value\"])\n",
    "y4 = list(outstate_4y_year[\"Value\"])\n",
    "y5 = list(private_year[\"Value\"])\n",
    "y6 = list(fees_tuition_yearly[\"Value\"])\n",
    "\n",
    "\n",
    "plt.plot(x, y1, color='pink', marker = 'o')\n",
    "plt.plot(x, y2, color='gray', marker='o')\n",
    "plt.plot(x2, y3, color='orange', marker = 'o')\n",
    "plt.plot(x, y4, color='red', marker='o')\n",
    "plt.plot(x, y5, color='blue', marker = 'o')\n",
    "\n",
    "plt.xlabel('Year')\n",
    "plt.ylabel('Fees')\n",
    "plt.title('Fees By College Type')\n",
    "plt.legend( [\"Two Year Instate\", \"Two Year Outstate\", \"Four Year Instate\", \"Four Year Outstate\", \"Private\"], loc=5)\n",
    "plt.show()\n",
    "plt.clf()\n",
    "\n",
    "plt.plot(x, y6, color='black', marker = 'o')\n",
    "plt.xlabel('Year')\n",
    "plt.ylabel('Fees')\n",
    "plt.title('Averge fee per year of all college types')\n",
    "plt.show()\n",
    "plt.clf()"
   ]
  },
  {
   "cell_type": "markdown",
   "id": "d731e04c",
   "metadata": {},
   "source": [
    "* The difference between 4 year outstate and private tuition start to diverge after 2018\n",
    "* There is a significant jump from 4 year instate to 4 year outstate\n",
    "* The college prices increase for all types of colleges\n",
    "* Linear change in the total average\n",
    "\n",
    "\n",
    "Recommendation: A student should be concious that the college price for their graduation year will be more expensive than recorded prices of previous years, for any college type. A public school has a lower rate of increase than private school. \n",
    "\n",
    "\n",
    "* For the Average fee per year, please ignore 2021 as it excludes instate 4y data which was not present in the 2021 csv"
   ]
  },
  {
   "cell_type": "code",
   "execution_count": null,
   "id": "f122e16f",
   "metadata": {},
   "outputs": [],
   "source": []
  },
  {
   "cell_type": "code",
   "execution_count": null,
   "id": "3ba74814",
   "metadata": {},
   "outputs": [],
   "source": []
  },
  {
   "cell_type": "code",
   "execution_count": null,
   "id": "cb5d3a45",
   "metadata": {},
   "outputs": [],
   "source": []
  }
 ],
 "metadata": {
  "kernelspec": {
   "display_name": "Python 3 (ipykernel)",
   "language": "python",
   "name": "python3"
  },
  "language_info": {
   "codemirror_mode": {
    "name": "ipython",
    "version": 3
   },
   "file_extension": ".py",
   "mimetype": "text/x-python",
   "name": "python",
   "nbconvert_exporter": "python",
   "pygments_lexer": "ipython3",
   "version": "3.9.7"
  }
 },
 "nbformat": 4,
 "nbformat_minor": 5
}
